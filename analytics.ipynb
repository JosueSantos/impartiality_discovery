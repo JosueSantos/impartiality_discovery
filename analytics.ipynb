{
 "cells": [
  {
   "cell_type": "code",
   "execution_count": 1,
   "source": [
    "# coding: utf-8\n",
    "\n",
    "import matplotlib.pyplot as plt\n",
    "import pandas as pd\n",
    "\n",
    "from files.base import Base\n",
    "from classifier.ClassifierService import ClassifierService\n",
    "\n",
    "classifierService = ClassifierService()"
   ],
   "outputs": [
    {
     "output_type": "stream",
     "name": "stderr",
     "text": [
      "[nltk_data] Downloading package rslp to\n",
      "[nltk_data]     C:\\Users\\josue\\AppData\\Roaming\\nltk_data...\n",
      "[nltk_data]   Package rslp is already up-to-date!\n"
     ]
    }
   ],
   "metadata": {}
  },
  {
   "cell_type": "code",
   "execution_count": 2,
   "source": [
    "df = pd.read_csv(Base.BASE, sep=\";\", names=['article','type','positive','negative','neutral','link','origin'])\n",
    "df.head(2)"
   ],
   "outputs": [
    {
     "output_type": "execute_result",
     "data": {
      "text/html": [
       "<div>\n",
       "<style scoped>\n",
       "    .dataframe tbody tr th:only-of-type {\n",
       "        vertical-align: middle;\n",
       "    }\n",
       "\n",
       "    .dataframe tbody tr th {\n",
       "        vertical-align: top;\n",
       "    }\n",
       "\n",
       "    .dataframe thead th {\n",
       "        text-align: right;\n",
       "    }\n",
       "</style>\n",
       "<table border=\"1\" class=\"dataframe\">\n",
       "  <thead>\n",
       "    <tr style=\"text-align: right;\">\n",
       "      <th></th>\n",
       "      <th>article</th>\n",
       "      <th>type</th>\n",
       "      <th>positive</th>\n",
       "      <th>negative</th>\n",
       "      <th>neutral</th>\n",
       "      <th>link</th>\n",
       "      <th>origin</th>\n",
       "    </tr>\n",
       "  </thead>\n",
       "  <tbody>\n",
       "    <tr>\n",
       "      <th>0</th>\n",
       "      <td>Código Florestal é dos que têm bom senso, diz ...</td>\n",
       "      <td>impartial</td>\n",
       "      <td>2</td>\n",
       "      <td>-1</td>\n",
       "      <td>1</td>\n",
       "      <td>https://www.opovo.com.br/noticias/politica/201...</td>\n",
       "      <td>O Povo</td>\n",
       "    </tr>\n",
       "    <tr>\n",
       "      <th>1</th>\n",
       "      <td>Haddad critica Serra por cumprir mandato pela ...</td>\n",
       "      <td>impartial</td>\n",
       "      <td>1</td>\n",
       "      <td>-2</td>\n",
       "      <td>-1</td>\n",
       "      <td>https://www.opovo.com.br/noticias/politica/201...</td>\n",
       "      <td>O Povo</td>\n",
       "    </tr>\n",
       "  </tbody>\n",
       "</table>\n",
       "</div>"
      ],
      "text/plain": [
       "                                             article       type  positive  \\\n",
       "0  Código Florestal é dos que têm bom senso, diz ...  impartial         2   \n",
       "1  Haddad critica Serra por cumprir mandato pela ...  impartial         1   \n",
       "\n",
       "   negative  neutral                                               link  \\\n",
       "0        -1        1  https://www.opovo.com.br/noticias/politica/201...   \n",
       "1        -2       -1  https://www.opovo.com.br/noticias/politica/201...   \n",
       "\n",
       "   origin  \n",
       "0  O Povo  \n",
       "1  O Povo  "
      ]
     },
     "metadata": {},
     "execution_count": 2
    }
   ],
   "metadata": {}
  },
  {
   "cell_type": "code",
   "execution_count": 3,
   "source": [
    "totalDN = df[(df.origin == \"Diário do Nordeste\")].article.count()\n",
    "totalG1 = df[(df.origin == \"G1 Ceará\")].article.count()\n",
    "totalOP = df[(df.origin == \"O Povo\")].article.count()\n",
    "\n",
    "impartialDN = df[(df.origin == \"Diário do Nordeste\") & (df.type == \"impartial\")].article.count()\n",
    "pImpartialDN = impartialDN / totalDN * 100\n",
    "\n",
    "impartialG1 = df[(df.origin == \"G1 Ceará\") & (df.type == \"impartial\")].article.count()\n",
    "pImpartialG1 = impartialG1 / totalG1 * 100\n",
    "\n",
    "impartialOP = df[(df.origin == \"O Povo\") & (df.type == \"impartial\")].article.count()\n",
    "pImpartialOP = impartialOP / totalOP * 100\n",
    "\n",
    "partialDN = df[(df.origin == \"Diário do Nordeste\") & (df.type == \"partial\")].article.count()\n",
    "pPartialDN = partialDN / totalDN * 100\n",
    "\n",
    "partialG1 = df[(df.origin == \"G1 Ceará\") & (df.type == \"partial\")].article.count()\n",
    "pPartialG1 = partialG1 / totalG1 * 100\n",
    "\n",
    "partialOP = df[(df.origin == \"O Povo\") & (df.type == \"partial\")].article.count()\n",
    "pPartialOP = partialOP / totalOP * 100\n",
    "\n",
    "analytics = pd.DataFrame({\n",
    "    'total' : {\n",
    "        'Total': df.article.count(),\n",
    "        'Diário do Nordeste': totalDN,\n",
    "        'G1 Ceará': totalG1,\n",
    "        'O Povo': totalOP\n",
    "    },\n",
    "    'impartial' : {\n",
    "        'Total': df[df.type == \"impartial\"].article.count(),\n",
    "        'Diário do Nordeste': str(impartialDN) + \" ( \" + str(round(pImpartialDN)) + \"% )\",\n",
    "        'G1 Ceará': str(impartialG1) + \" ( \" + str(round(pImpartialG1)) + \"% )\",\n",
    "        'O Povo': str(impartialOP) + \" ( \" + str(round(pImpartialOP)) + \"% )\",\n",
    "    },\n",
    "    'partial' : {\n",
    "        'Total':  df[df.type == \"partial\"].article.count(),\n",
    "        'Diário do Nordeste': str(partialDN) + \" ( \" + str(round(pPartialDN)) + \"% )\",\n",
    "        'G1 Ceará': str(partialG1) + \" ( \" + str(round(pPartialG1)) + \"% )\",\n",
    "        'O Povo': str(partialOP) + \" ( \" + str(round(pPartialOP)) + \"% )\",\n",
    "    },\n",
    "})\n",
    "\n",
    "analytics"
   ],
   "outputs": [
    {
     "output_type": "execute_result",
     "data": {
      "text/html": [
       "<div>\n",
       "<style scoped>\n",
       "    .dataframe tbody tr th:only-of-type {\n",
       "        vertical-align: middle;\n",
       "    }\n",
       "\n",
       "    .dataframe tbody tr th {\n",
       "        vertical-align: top;\n",
       "    }\n",
       "\n",
       "    .dataframe thead th {\n",
       "        text-align: right;\n",
       "    }\n",
       "</style>\n",
       "<table border=\"1\" class=\"dataframe\">\n",
       "  <thead>\n",
       "    <tr style=\"text-align: right;\">\n",
       "      <th></th>\n",
       "      <th>total</th>\n",
       "      <th>impartial</th>\n",
       "      <th>partial</th>\n",
       "    </tr>\n",
       "  </thead>\n",
       "  <tbody>\n",
       "    <tr>\n",
       "      <th>Total</th>\n",
       "      <td>11460</td>\n",
       "      <td>4547</td>\n",
       "      <td>6913</td>\n",
       "    </tr>\n",
       "    <tr>\n",
       "      <th>Diário do Nordeste</th>\n",
       "      <td>2094</td>\n",
       "      <td>606 ( 29% )</td>\n",
       "      <td>1488 ( 71% )</td>\n",
       "    </tr>\n",
       "    <tr>\n",
       "      <th>G1 Ceará</th>\n",
       "      <td>1984</td>\n",
       "      <td>579 ( 29% )</td>\n",
       "      <td>1405 ( 71% )</td>\n",
       "    </tr>\n",
       "    <tr>\n",
       "      <th>O Povo</th>\n",
       "      <td>7382</td>\n",
       "      <td>3362 ( 46% )</td>\n",
       "      <td>4020 ( 54% )</td>\n",
       "    </tr>\n",
       "  </tbody>\n",
       "</table>\n",
       "</div>"
      ],
      "text/plain": [
       "                    total     impartial       partial\n",
       "Total               11460          4547          6913\n",
       "Diário do Nordeste   2094   606 ( 29% )  1488 ( 71% )\n",
       "G1 Ceará             1984   579 ( 29% )  1405 ( 71% )\n",
       "O Povo               7382  3362 ( 46% )  4020 ( 54% )"
      ]
     },
     "metadata": {},
     "execution_count": 3
    }
   ],
   "metadata": {}
  },
  {
   "cell_type": "code",
   "execution_count": 4,
   "source": [
    "df_trainig = pd.read_csv(Base.TRAINING, sep=\";\", names=['article','type'])\n",
    "df_test = pd.read_csv(Base.TEST, sep=\";\", names=['article','type'])\n",
    "df_ground_truth = pd.read_csv(Base.BASE_GROUND_TRUTH, sep=\";\", names=['article','type'])\n",
    "\n",
    "analytics_base = pd.DataFrame({\n",
    "    'total' : {\n",
    "        'Total': df.article.count(),\n",
    "        'Base Training': df_trainig.article.count(),\n",
    "        'Base Test': df_test.article.count(),\n",
    "        'Base Ground Truth': df_ground_truth.article.count(),\n",
    "    },\n",
    "    'impartial' : {\n",
    "        'Total': df[df.type == \"impartial\"].article.count(),\n",
    "        'Base Training': df_trainig[df_trainig.type == \"impartial\"].article.count(),\n",
    "        'Base Test': df_test[df_test.type == \"impartial\"].article.count(),\n",
    "        'Base Ground Truth': df_ground_truth[df_ground_truth.type == \"impartial\"].article.count(),\n",
    "    },\n",
    "    'partial' : {\n",
    "        'Total':  df[df.type == \"partial\"].article.count(),\n",
    "        'Base Training': df_trainig[df_trainig.type == \"partial\"].article.count(),\n",
    "        'Base Test': df_test[df_test.type == \"partial\"].article.count(),\n",
    "        'Base Ground Truth': df_ground_truth[df_ground_truth.type == \"partial\"].article.count(),\n",
    "    },\n",
    "})\n",
    "\n",
    "analytics_base"
   ],
   "outputs": [
    {
     "output_type": "execute_result",
     "data": {
      "text/html": [
       "<div>\n",
       "<style scoped>\n",
       "    .dataframe tbody tr th:only-of-type {\n",
       "        vertical-align: middle;\n",
       "    }\n",
       "\n",
       "    .dataframe tbody tr th {\n",
       "        vertical-align: top;\n",
       "    }\n",
       "\n",
       "    .dataframe thead th {\n",
       "        text-align: right;\n",
       "    }\n",
       "</style>\n",
       "<table border=\"1\" class=\"dataframe\">\n",
       "  <thead>\n",
       "    <tr style=\"text-align: right;\">\n",
       "      <th></th>\n",
       "      <th>total</th>\n",
       "      <th>impartial</th>\n",
       "      <th>partial</th>\n",
       "    </tr>\n",
       "  </thead>\n",
       "  <tbody>\n",
       "    <tr>\n",
       "      <th>Total</th>\n",
       "      <td>11460</td>\n",
       "      <td>4547</td>\n",
       "      <td>6913</td>\n",
       "    </tr>\n",
       "    <tr>\n",
       "      <th>Base Training</th>\n",
       "      <td>3435</td>\n",
       "      <td>1363</td>\n",
       "      <td>2072</td>\n",
       "    </tr>\n",
       "    <tr>\n",
       "      <th>Base Test</th>\n",
       "      <td>8017</td>\n",
       "      <td>3181</td>\n",
       "      <td>4836</td>\n",
       "    </tr>\n",
       "    <tr>\n",
       "      <th>Base Ground Truth</th>\n",
       "      <td>8</td>\n",
       "      <td>4</td>\n",
       "      <td>4</td>\n",
       "    </tr>\n",
       "  </tbody>\n",
       "</table>\n",
       "</div>"
      ],
      "text/plain": [
       "                   total  impartial  partial\n",
       "Total              11460       4547     6913\n",
       "Base Training       3435       1363     2072\n",
       "Base Test           8017       3181     4836\n",
       "Base Ground Truth      8          4        4"
      ]
     },
     "metadata": {},
     "execution_count": 4
    }
   ],
   "metadata": {}
  },
  {
   "cell_type": "code",
   "execution_count": 5,
   "source": [
    "accuracy = classifierService.accuracy() * 100\n",
    "print(\"Acurácia do Modelo Gerado: \" + str(round(accuracy, 2)) + \"%\")"
   ],
   "outputs": [
    {
     "output_type": "stream",
     "name": "stdout",
     "text": [
      "Acurácia do Modelo Gerado: 67.88%\n"
     ]
    }
   ],
   "metadata": {}
  },
  {
   "cell_type": "code",
   "execution_count": 6,
   "source": [
    "print(\"\\nMatriz de Confusão\")\n",
    "print( classifierService.confusionMatrix() )"
   ],
   "outputs": [
    {
     "output_type": "stream",
     "name": "stdout",
     "text": [
      "\n",
      "Matriz de Confusão\n",
      "          |    i      |\n",
      "          |    m      |\n",
      "          |    p    p |\n",
      "          |    a    a |\n",
      "          |    r    r |\n",
      "          |    t    t |\n",
      "          |    i    i |\n",
      "          |    a    a |\n",
      "          |    l    l |\n",
      "----------+-----------+\n",
      "impartial |<2444> 727 |\n",
      "  partial | 1838<2976>|\n",
      "----------+-----------+\n",
      "(row = reference; col = test)\n",
      "\n"
     ]
    }
   ],
   "metadata": {}
  },
  {
   "cell_type": "code",
   "execution_count": 6,
   "source": [
    "accuracy = classifierService.accuracy(groundTruth = True) * 100\n",
    "print(\"Acurácia do Modelo Gerado: \" + str(round(accuracy, 2)) + \"%\")\n",
    "\n",
    "print(\"\\nMatriz de Confusão\")\n",
    "print( classifierService.confusionMatrix(groundTruth = True) )"
   ],
   "outputs": [
    {
     "output_type": "stream",
     "name": "stdout",
     "text": [
      "Acurácia do Modelo Gerado: 87.5%\n",
      "\n",
      "Matriz de Confusão\n",
      "          | i   |\n",
      "          | m   |\n",
      "          | p p |\n",
      "          | a a |\n",
      "          | r r |\n",
      "          | t t |\n",
      "          | i i |\n",
      "          | a a |\n",
      "          | l l |\n",
      "----------+-----+\n",
      "impartial |<3>1 |\n",
      "  partial | .<4>|\n",
      "----------+-----+\n",
      "(row = reference; col = test)\n",
      "\n"
     ]
    }
   ],
   "metadata": {}
  }
 ],
 "metadata": {
  "kernelspec": {
   "name": "python3",
   "display_name": "Python 3.8.5 64-bit"
  },
  "language_info": {
   "codemirror_mode": {
    "name": "ipython",
    "version": 3
   },
   "file_extension": ".py",
   "mimetype": "text/x-python",
   "name": "python",
   "nbconvert_exporter": "python",
   "pygments_lexer": "ipython3",
   "version": "3.8.5"
  },
  "interpreter": {
   "hash": "2db524e06e9f5f4ffedc911c917cb75e12dbc923643829bf417064a77eb14d37"
  }
 },
 "nbformat": 4,
 "nbformat_minor": 5
}