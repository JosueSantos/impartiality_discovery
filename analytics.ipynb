{
 "cells": [
  {
   "cell_type": "code",
   "execution_count": 1,
   "source": [
    "# coding: utf-8\n",
    "\n",
    "import matplotlib.pyplot as plt\n",
    "import pandas as pd\n",
    "\n",
    "from files.base import Base"
   ],
   "outputs": [],
   "metadata": {}
  },
  {
   "cell_type": "code",
   "execution_count": 2,
   "source": [
    "df = pd.read_csv(Base.BASE, sep=\";\", names=['article','type','positive','negative','neutral','link','origin'])\n",
    "df.head(2)"
   ],
   "outputs": [
    {
     "output_type": "execute_result",
     "data": {
      "text/html": [
       "<div>\n",
       "<style scoped>\n",
       "    .dataframe tbody tr th:only-of-type {\n",
       "        vertical-align: middle;\n",
       "    }\n",
       "\n",
       "    .dataframe tbody tr th {\n",
       "        vertical-align: top;\n",
       "    }\n",
       "\n",
       "    .dataframe thead th {\n",
       "        text-align: right;\n",
       "    }\n",
       "</style>\n",
       "<table border=\"1\" class=\"dataframe\">\n",
       "  <thead>\n",
       "    <tr style=\"text-align: right;\">\n",
       "      <th></th>\n",
       "      <th>article</th>\n",
       "      <th>type</th>\n",
       "      <th>positive</th>\n",
       "      <th>negative</th>\n",
       "      <th>neutral</th>\n",
       "      <th>link</th>\n",
       "      <th>origin</th>\n",
       "    </tr>\n",
       "  </thead>\n",
       "  <tbody>\n",
       "    <tr>\n",
       "      <th>0</th>\n",
       "      <td>Dilma deve discutir propostas com servidores e...</td>\n",
       "      <td>impartial</td>\n",
       "      <td>1</td>\n",
       "      <td>-2</td>\n",
       "      <td>-1</td>\n",
       "      <td>https://www.opovo.com.br/noticias/politica/201...</td>\n",
       "      <td>O Povo</td>\n",
       "    </tr>\n",
       "    <tr>\n",
       "      <th>1</th>\n",
       "      <td>Como a aprovação do Orçamento está opondo Gued...</td>\n",
       "      <td>partial</td>\n",
       "      <td>3</td>\n",
       "      <td>-2</td>\n",
       "      <td>1</td>\n",
       "      <td>https://diariodonordeste.verdesmares.com.br/po...</td>\n",
       "      <td>Diário do Nordeste</td>\n",
       "    </tr>\n",
       "  </tbody>\n",
       "</table>\n",
       "</div>"
      ],
      "text/plain": [
       "                                             article       type  positive  \\\n",
       "0  Dilma deve discutir propostas com servidores e...  impartial         1   \n",
       "1  Como a aprovação do Orçamento está opondo Gued...    partial         3   \n",
       "\n",
       "   negative  neutral                                               link  \\\n",
       "0        -2       -1  https://www.opovo.com.br/noticias/politica/201...   \n",
       "1        -2        1  https://diariodonordeste.verdesmares.com.br/po...   \n",
       "\n",
       "               origin  \n",
       "0              O Povo  \n",
       "1  Diário do Nordeste  "
      ]
     },
     "metadata": {},
     "execution_count": 2
    }
   ],
   "metadata": {}
  },
  {
   "cell_type": "code",
   "execution_count": 36,
   "source": [
    "db = pd.DataFrame({\n",
    "    'total' : {\n",
    "        'Total': df.article.count(),\n",
    "        'Diário do Nordeste': df[(df.origin == \"Diário do Nordeste\")].article.count(),\n",
    "        'G1 Ceará': df[(df.origin == \"G1 Ceará\")].article.count(),\n",
    "        'O Povo': df[(df.origin == \"O Povo\")].article.count()\n",
    "    },\n",
    "    'impartial' : {\n",
    "        'Total': df[df.type == \"impartial\"].article.count(),\n",
    "        'Diário do Nordeste': df[(df.origin == \"Diário do Nordeste\") & (df.type == \"impartial\")].article.count(),\n",
    "        'G1 Ceará': df[(df.origin == \"G1 Ceará\") & (df.type == \"impartial\")].article.count(),\n",
    "        'O Povo': df[(df.origin == \"O Povo\") & (df.type == \"impartial\")].article.count()\n",
    "    },\n",
    "    'partial' : {\n",
    "        'Total':  df[df.type == \"partial\"].article.count(),\n",
    "        'Diário do Nordeste': df[(df.origin == \"Diário do Nordeste\") & (df.type == \"partial\")].article.count(),\n",
    "        'G1 Ceará': df[(df.origin == \"G1 Ceará\") & (df.type == \"partial\")].article.count(),\n",
    "        'O Povo': df[(df.origin == \"O Povo\") & (df.type == \"partial\")].article.count(),\n",
    "    },\n",
    "})\n",
    "\n",
    "db"
   ],
   "outputs": [
    {
     "output_type": "execute_result",
     "data": {
      "text/html": [
       "<div>\n",
       "<style scoped>\n",
       "    .dataframe tbody tr th:only-of-type {\n",
       "        vertical-align: middle;\n",
       "    }\n",
       "\n",
       "    .dataframe tbody tr th {\n",
       "        vertical-align: top;\n",
       "    }\n",
       "\n",
       "    .dataframe thead th {\n",
       "        text-align: right;\n",
       "    }\n",
       "</style>\n",
       "<table border=\"1\" class=\"dataframe\">\n",
       "  <thead>\n",
       "    <tr style=\"text-align: right;\">\n",
       "      <th></th>\n",
       "      <th>total</th>\n",
       "      <th>impartial</th>\n",
       "      <th>partial</th>\n",
       "    </tr>\n",
       "  </thead>\n",
       "  <tbody>\n",
       "    <tr>\n",
       "      <th>Total</th>\n",
       "      <td>11095</td>\n",
       "      <td>4473</td>\n",
       "      <td>6622</td>\n",
       "    </tr>\n",
       "    <tr>\n",
       "      <th>Diário do Nordeste</th>\n",
       "      <td>2042</td>\n",
       "      <td>639</td>\n",
       "      <td>1403</td>\n",
       "    </tr>\n",
       "    <tr>\n",
       "      <th>G1 Ceará</th>\n",
       "      <td>1866</td>\n",
       "      <td>539</td>\n",
       "      <td>1327</td>\n",
       "    </tr>\n",
       "    <tr>\n",
       "      <th>O Povo</th>\n",
       "      <td>7187</td>\n",
       "      <td>3295</td>\n",
       "      <td>3892</td>\n",
       "    </tr>\n",
       "  </tbody>\n",
       "</table>\n",
       "</div>"
      ],
      "text/plain": [
       "                    total  impartial  partial\n",
       "Total               11095       4473     6622\n",
       "Diário do Nordeste   2042        639     1403\n",
       "G1 Ceará             1866        539     1327\n",
       "O Povo               7187       3295     3892"
      ]
     },
     "metadata": {},
     "execution_count": 36
    }
   ],
   "metadata": {}
  },
  {
   "cell_type": "code",
   "execution_count": 27,
   "source": [],
   "outputs": [
    {
     "output_type": "execute_result",
     "data": {
      "text/plain": [
       "1403"
      ]
     },
     "metadata": {},
     "execution_count": 27
    }
   ],
   "metadata": {}
  }
 ],
 "metadata": {
  "kernelspec": {
   "name": "python3",
   "display_name": "Python 3.8.5 64-bit"
  },
  "language_info": {
   "codemirror_mode": {
    "name": "ipython",
    "version": 3
   },
   "file_extension": ".py",
   "mimetype": "text/x-python",
   "name": "python",
   "nbconvert_exporter": "python",
   "pygments_lexer": "ipython3",
   "version": "3.8.5"
  },
  "interpreter": {
   "hash": "2db524e06e9f5f4ffedc911c917cb75e12dbc923643829bf417064a77eb14d37"
  }
 },
 "nbformat": 4,
 "nbformat_minor": 5
}